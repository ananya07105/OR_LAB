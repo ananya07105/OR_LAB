{
  "nbformat": 4,
  "nbformat_minor": 0,
  "metadata": {
    "colab": {
      "name": "Exp4_Ananya_R103219029.ipynb",
      "provenance": [],
      "authorship_tag": "ABX9TyPczOV2iBkl1uwSHE+Fd68K",
      "include_colab_link": true
    },
    "kernelspec": {
      "name": "python3",
      "display_name": "Python 3"
    },
    "language_info": {
      "name": "python"
    }
  },
  "cells": [
    {
      "cell_type": "markdown",
      "metadata": {
        "id": "view-in-github",
        "colab_type": "text"
      },
      "source": [
        "<a href=\"https://colab.research.google.com/github/ananya07105/OR_LAB/blob/main/Exp4_Ananya_R103219029.ipynb\" target=\"_parent\"><img src=\"https://colab.research.google.com/assets/colab-badge.svg\" alt=\"Open In Colab\"/></a>"
      ]
    },
    {
      "cell_type": "code",
      "metadata": {
        "id": "wT9u3DNJUFuS"
      },
      "source": [
        "import cvxpy as cp"
      ],
      "execution_count": 1,
      "outputs": []
    },
    {
      "cell_type": "markdown",
      "metadata": {
        "id": "r-o4_xmFay8u"
      },
      "source": [
        "Problem-1"
      ]
    },
    {
      "cell_type": "code",
      "metadata": {
        "colab": {
          "base_uri": "https://localhost:8080/"
        },
        "id": "1nuJl36TZJ-i",
        "outputId": "bac4a033-defc-4943-cda1-495ba479070e"
      },
      "source": [
        "x1 = cp.Variable(integer=True)\n",
        "x2 = cp.Variable(integer=True)\n",
        "constraints = [-x1 + 3*x2 <= 6,\n",
        "               7*x1 + x2 <= 35,\n",
        "               x1>=0,\n",
        "               x2>=0]\n",
        "obj = cp.Maximize((7*x1 + 10*x2))\n",
        "prob = cp.Problem(obj, constraints)\n",
        "prob.solve()\n"
      ],
      "execution_count": 2,
      "outputs": [
        {
          "output_type": "execute_result",
          "data": {
            "text/plain": [
              "58.0"
            ]
          },
          "metadata": {},
          "execution_count": 2
        }
      ]
    },
    {
      "cell_type": "markdown",
      "metadata": {
        "id": "zZeTtDAcaQxU"
      },
      "source": [
        "Problem-2"
      ]
    },
    {
      "cell_type": "code",
      "metadata": {
        "colab": {
          "base_uri": "https://localhost:8080/"
        },
        "id": "O0sFHt8nZ0cm",
        "outputId": "86473b67-2f36-498b-e6e2-112d06943eca"
      },
      "source": [
        "x1 = cp.Variable(integer=True)\n",
        "x2 = cp.Variable(integer=True)\n",
        "constraints = [x1 + x2 <= 6,\n",
        "               5*x1 + 9*x2 <= 45,\n",
        "               x1>=0,\n",
        "               x2>=0]\n",
        "obj = cp.Maximize((5*x1 + 8*x2))\n",
        "prob = cp.Problem(obj, constraints)\n",
        "prob.solve()\n"
      ],
      "execution_count": 3,
      "outputs": [
        {
          "output_type": "execute_result",
          "data": {
            "text/plain": [
              "40.0"
            ]
          },
          "metadata": {},
          "execution_count": 3
        }
      ]
    },
    {
      "cell_type": "code",
      "metadata": {
        "id": "9dMJ8W-2amOu"
      },
      "source": [
        ""
      ],
      "execution_count": null,
      "outputs": []
    }
  ]
}
