{
  "nbformat": 4,
  "nbformat_minor": 0,
  "metadata": {
    "colab": {
      "name": "Exp_1_Ananya_R103219029",
      "provenance": [],
      "authorship_tag": "ABX9TyPQaMQJighlKo0s43uY9mto",
      "include_colab_link": true
    },
    "kernelspec": {
      "name": "python3",
      "display_name": "Python 3"
    },
    "language_info": {
      "name": "python"
    }
  },
  "cells": [
    {
      "cell_type": "markdown",
      "metadata": {
        "id": "view-in-github",
        "colab_type": "text"
      },
      "source": [
        "<a href=\"https://colab.research.google.com/github/ananya07105/OR_LAB/blob/main/Exp_1_Ananya_R103219029.ipynb\" target=\"_parent\"><img src=\"https://colab.research.google.com/assets/colab-badge.svg\" alt=\"Open In Colab\"/></a>"
      ]
    },
    {
      "cell_type": "code",
      "metadata": {
        "id": "loqPJdViWkoH"
      },
      "source": [
        "from scipy.optimize import linprog"
      ],
      "execution_count": null,
      "outputs": []
    },
    {
      "cell_type": "code",
      "metadata": {
        "id": "bQROCYbGWt9U"
      },
      "source": [
        "obj = [1, 1]"
      ],
      "execution_count": null,
      "outputs": []
    },
    {
      "cell_type": "code",
      "metadata": {
        "id": "OpjaZjDaWzfV"
      },
      "source": [
        "lhs_ineq = [[ 1,  2],[2,  1]]\n",
        "rhs_ineq = [6, 6]"
      ],
      "execution_count": null,
      "outputs": []
    },
    {
      "cell_type": "code",
      "metadata": {
        "id": "-vGT1naOW39S"
      },
      "source": [
        "bnd = [(0, float(\"inf\")), (0, float(\"inf\"))]  # Bounds of x & y"
      ],
      "execution_count": null,
      "outputs": []
    },
    {
      "cell_type": "code",
      "metadata": {
        "id": "lK6cST8hW4uM"
      },
      "source": [
        "opt = linprog(c=obj, A_ub=lhs_ineq, b_ub=rhs_ineq,\n",
        "...               bounds=bnd,\n",
        "...               method=\"revised simplex\")\n"
      ],
      "execution_count": null,
      "outputs": []
    },
    {
      "cell_type": "code",
      "metadata": {
        "colab": {
          "base_uri": "https://localhost:8080/"
        },
        "id": "_jidlfNtW7em",
        "outputId": "0f10634d-36cf-4896-cbec-7da928a56815"
      },
      "source": [
        "opt"
      ],
      "execution_count": null,
      "outputs": [
        {
          "output_type": "execute_result",
          "data": {
            "text/plain": [
              "     con: array([], dtype=float64)\n",
              "     fun: 0.0\n",
              " message: 'Optimization terminated successfully.'\n",
              "     nit: 0\n",
              "   slack: array([6., 6.])\n",
              "  status: 0\n",
              " success: True\n",
              "       x: array([0., 0.])"
            ]
          },
          "metadata": {
            "tags": []
          },
          "execution_count": 6
        }
      ]
    },
    {
      "cell_type": "code",
      "metadata": {
        "id": "H0jIqh6FW9M6"
      },
      "source": [
        ""
      ],
      "execution_count": null,
      "outputs": []
    }
  ]
}